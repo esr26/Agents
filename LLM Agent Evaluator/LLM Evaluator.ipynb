{
 "cells": [
  {
   "cell_type": "code",
   "execution_count": 1,
   "id": "940fed51",
   "metadata": {},
   "outputs": [],
   "source": [
    "import os\n",
    "import json\n",
    "from dotenv import load_dotenv\n",
    "from openai import OpenAI\n",
    "from IPython.display import Markdown, display"
   ]
  },
  {
   "cell_type": "code",
   "execution_count": 2,
   "id": "346f4849",
   "metadata": {},
   "outputs": [],
   "source": [
    "load_dotenv(override=True)\n",
    "\n",
    "\n",
    "google_api_key = os.getenv(\"GEMINI_API_KEY\")\n",
    "groq_api_key = os.getenv(\"GROQ_API_KEY\")"
   ]
  },
  {
   "cell_type": "code",
   "execution_count": 3,
   "id": "c51b23a9",
   "metadata": {},
   "outputs": [],
   "source": [
    "request = \"Please come up with a challenging, nuanced question that I can ask a number of LLMs to evaluate their intelligence. \"\n",
    "request += \"Answer only with the question, no explanation.\"\n",
    "messages = [{\"role\": \"user\", \"content\": request}]"
   ]
  },
  {
   "cell_type": "code",
   "execution_count": 4,
   "id": "f187fe05",
   "metadata": {},
   "outputs": [
    {
     "data": {
      "text/markdown": [
       "Imagine a world where subjective experiences can be perfectly quantified and reliably transferred between individuals. If you could experience any other person's existence for 24 hours, knowing you would retain the memory but return to your own body and life afterward, whose life would you choose and why? Consider not just fame, fortune, or happiness, but also hardship, moral complexity, and historical impact.\n"
      ],
      "text/plain": [
       "<IPython.core.display.Markdown object>"
      ]
     },
     "metadata": {},
     "output_type": "display_data"
    }
   ],
   "source": [
    "gemini = OpenAI(api_key=google_api_key, base_url=\"https://generativelanguage.googleapis.com/v1beta/openai/\")\n",
    "model_name = \"gemini-2.0-flash\"\n",
    "\n",
    "response = gemini.chat.completions.create(model=model_name, messages=messages)\n",
    "question = response.choices[0].message.content\n",
    "\n",
    "display(Markdown(question))\n"
   ]
  },
  {
   "cell_type": "code",
   "execution_count": 5,
   "id": "00bf8fe9",
   "metadata": {},
   "outputs": [],
   "source": [
    "competitors = []\n",
    "answers = []\n",
    "messages = [{\"role\": \"user\", \"content\": question}]"
   ]
  },
  {
   "cell_type": "code",
   "execution_count": 6,
   "id": "86191362",
   "metadata": {},
   "outputs": [],
   "source": [
    "model_name = \"gemini-2.5-flash\"\n",
    "\n",
    "response = gemini.chat.completions.create(model=model_name, messages=messages)\n",
    "answer = response.choices[0].message.content\n",
    "\n",
    "competitors.append(model_name)\n",
    "answers.append(answer)\n",
    "\n"
   ]
  },
  {
   "cell_type": "code",
   "execution_count": 7,
   "id": "57bcd22a",
   "metadata": {},
   "outputs": [
    {
     "data": {
      "text/markdown": [
       "If I could experience any other person's existence for 24 hours, I would choose to walk in the shoes of Malala Yousafzai, the Pakistani activist for girls' education and the youngest Nobel Prize laureate. Here's why:\n",
       "\n",
       "1. **Unwavering courage and resilience**: Malala's life is a testament to her extraordinary bravery and determination. She has faced numerous death threats, survived a Taliban assassination attempt, and continued to advocate for girls' education despite the risks. I want to understand what drives her courage and how she maintains her resolve in the face of adversity.\n",
       "2. **Unique perspective on education and equality**: As a champion of girls' education, Malala has a deep understanding of the importance of education in empowering individuals and communities. I would like to experience her thoughts and feelings on the value of education, the challenges she has faced in promoting it, and the impact it has had on her life and the lives of others.\n",
       "3. **Cultural and historical context**: Malala's life is deeply rooted in Pakistani culture and the complexities of the region. I would like to experience the daily life of a Pashtun woman in the Swat Valley, with all its traditions, customs, and challenges. This would give me a unique insight into the historical and cultural context of the region and the ways in which it shapes individual experiences.\n",
       "4. **Moral complexity and nuance**: Malala's story is not just one of triumph, but also of struggle and controversy. She has faced criticism and backlash from some quarters, and I would like to understand the moral complexities and trade-offs she has had to navigate in her advocacy work. How does she balance her commitment to education with the need to protect herself and her family?\n",
       "5. **Empathy and compassion**: By experiencing Malala's life, I hope to gain a deeper understanding of the struggles faced by girls and women in patriarchal societies. I want to feel the weight of her responsibilities, the fear and the hope, and the resilience that drives her to continue fighting for a better future.\n",
       "6. **Inspiration and personal growth**: Malala's story is a powerful reminder of the impact one person can have on the world. By experiencing her life, I hope to be inspired by her example and to gain a new perspective on my own life and priorities. I want to understand what drives her to make sacrifices for the greater good and how I can apply those lessons to my own life.\n",
       "\n",
       "For 24 hours, I would like to wake up in Malala's body, to see the world through her eyes, and to experience the beauty and the brutality of her reality. I would like to feel the sun on my face as I walk to school, to taste the food she eats, and to hear the sounds of her community. I would like to attend meetings with world leaders, to speak at rallies, and to advocate for girls' education. I would like to understand the intricacies of her relationships with her family, friends, and allies.\n",
       "\n",
       "After 24 hours, I would return to my own body and life, but I would carry with me the memories and lessons of Malala's existence. I would be reminded of the power of courage, resilience, and compassion, and I would strive to apply those qualities to my own life and work."
      ],
      "text/plain": [
       "<IPython.core.display.Markdown object>"
      ]
     },
     "metadata": {},
     "output_type": "display_data"
    }
   ],
   "source": [
    "groq = OpenAI(api_key=groq_api_key, base_url=\"https://api.groq.com/openai/v1\")\n",
    "model_name = \"llama-3.3-70b-versatile\"\n",
    "\n",
    "response = groq.chat.completions.create(model=model_name, messages=messages)\n",
    "answer = response.choices[0].message.content\n",
    "\n",
    "competitors.append(model_name)\n",
    "display(Markdown(answer))\n",
    "answers.append(answer)"
   ]
  },
  {
   "cell_type": "code",
   "execution_count": 9,
   "id": "52440555",
   "metadata": {},
   "outputs": [],
   "source": [
    "a = zip(competitors, answers)"
   ]
  },
  {
   "cell_type": "code",
   "execution_count": 12,
   "id": "1d5b3fd7",
   "metadata": {},
   "outputs": [
    {
     "data": {
      "text/plain": [
       "[('gemini-2.5-flash',\n",
       "  'This is a fascinating and profoundly challenging thought experiment. Given the ability to perfectly quantify and transfer subjective experience, my choice would be to experience the existence of **Viktor Frankl, specifically during a pivotal 24-hour period within a Nazi concentration camp.**\\n\\nHere\\'s why:\\n\\n1.  **Hardship Beyond Comprehension:** To truly grasp the unfathomable depths of human suffering, degradation, and the systematic attempt to strip away individuality and meaning. It\\'s not just about witnessing it from the outside; it\\'s about *feeling* the hunger, the cold, the fear, the constant threat of death, the loss of loved ones, the despair. This experience would be a crucible of the human spirit.\\n\\n2.  **Moral Complexity in the Extreme:** Frankl\\'s experience was saturated with moral dilemmas – not just his own, but witnessing the choices made by fellow prisoners, the kapos, and the guards. Who shared a crust of bread? Who stole? Who maintained their humanity in the face of unspeakable dehumanization? Who gave up hope, and who found a reason to live? To understand the internal struggle to maintain one\\'s values, to find a sliver of meaning amidst total meaninglessness, would be an unparalleled lesson in ethical fortitude and the grey areas of survival. I want to feel the internal battle to choose one\\'s attitude, even when external freedom is completely absent.\\n\\n3.  **Historical Impact at its Genesis:** Frankl\\'s time in the camps was the genesis of Logotherapy, his groundbreaking psychological theory emphasizing the human search for meaning. To experience the subjective thought processes, the moments of insight, the intellectual and emotional revelations that led him to develop his ideas about \"tragic optimism\" and the \"last of the human freedoms\" (to choose one\\'s attitude) *while still within the hellish confines of the camp* would be witnessing the birth of a world-changing philosophy. It wouldn\\'t just be remembering his theories; it would be *feeling the direct lived experience that forged them*.\\n\\n4.  **Beyond Fame, Fortune, or Conventional Happiness:** This choice deliberately sidesteps the superficial allure of power or pleasure. While experiencing moments of pure joy or peak performance might be interesting, 24 hours in Frankl\\'s shoes during that period would offer a visceral understanding of human resilience, the capacity for meaning-making, and the ultimate importance of inner freedom that no amount of fame or fortune could ever convey. It would be a stark reminder of what truly matters when everything else is stripped away.\\n\\n**What I hope to gain from those 24 hours (and retain):**\\n\\n*   **A Profound and Visceral Understanding of Resilience:** To truly comprehend how the human spirit can endure, and even find purpose, in the most horrific circumstances.\\n*   **A Shift in Perspective on My Own Challenges:** My \"problems\" would forever be reframed against that backdrop, fostering deeper gratitude and a stronger sense of perspective.\\n*   **Empathy and Human Connection:** A heightened, almost unbearable, empathy for those who have suffered and continue to suffer, and a deeper appreciation for the fragility and tenacity of human life.\\n*   **The Inviolability of Inner Freedom:** A direct, unforgettable experience of the truth that even when everything is taken, one\\'s attitude, one\\'s choice to find meaning, remains. This would be an empowering and grounding truth for the rest of my life.\\n*   **A Deeper Sense of Purpose:** The memory would serve as a constant reminder of the importance of living a life of meaning, not just pleasure or achievement.\\n\\nReturning to my own body and life, I would carry an indelible mark – a memory that is not just information, but *felt experience*. It would fundamentally alter my perception of suffering, my understanding of human nature, and my approach to living my own life with greater purpose and resilience. It would be a heavy memory, but one that would hopefully inspire greater compassion and a profound sense of responsibility.'),\n",
       " ('llama-3.3-70b-versatile',\n",
       "  \"If I could experience any other person's existence for 24 hours, I would choose to walk in the shoes of Malala Yousafzai, the Pakistani activist for girls' education and the youngest Nobel Prize laureate. Here's why:\\n\\n1. **Unwavering courage and resilience**: Malala's life is a testament to her extraordinary bravery and determination. She has faced numerous death threats, survived a Taliban assassination attempt, and continued to advocate for girls' education despite the risks. I want to understand what drives her courage and how she maintains her resolve in the face of adversity.\\n2. **Unique perspective on education and equality**: As a champion of girls' education, Malala has a deep understanding of the importance of education in empowering individuals and communities. I would like to experience her thoughts and feelings on the value of education, the challenges she has faced in promoting it, and the impact it has had on her life and the lives of others.\\n3. **Cultural and historical context**: Malala's life is deeply rooted in Pakistani culture and the complexities of the region. I would like to experience the daily life of a Pashtun woman in the Swat Valley, with all its traditions, customs, and challenges. This would give me a unique insight into the historical and cultural context of the region and the ways in which it shapes individual experiences.\\n4. **Moral complexity and nuance**: Malala's story is not just one of triumph, but also of struggle and controversy. She has faced criticism and backlash from some quarters, and I would like to understand the moral complexities and trade-offs she has had to navigate in her advocacy work. How does she balance her commitment to education with the need to protect herself and her family?\\n5. **Empathy and compassion**: By experiencing Malala's life, I hope to gain a deeper understanding of the struggles faced by girls and women in patriarchal societies. I want to feel the weight of her responsibilities, the fear and the hope, and the resilience that drives her to continue fighting for a better future.\\n6. **Inspiration and personal growth**: Malala's story is a powerful reminder of the impact one person can have on the world. By experiencing her life, I hope to be inspired by her example and to gain a new perspective on my own life and priorities. I want to understand what drives her to make sacrifices for the greater good and how I can apply those lessons to my own life.\\n\\nFor 24 hours, I would like to wake up in Malala's body, to see the world through her eyes, and to experience the beauty and the brutality of her reality. I would like to feel the sun on my face as I walk to school, to taste the food she eats, and to hear the sounds of her community. I would like to attend meetings with world leaders, to speak at rallies, and to advocate for girls' education. I would like to understand the intricacies of her relationships with her family, friends, and allies.\\n\\nAfter 24 hours, I would return to my own body and life, but I would carry with me the memories and lessons of Malala's existence. I would be reminded of the power of courage, resilience, and compassion, and I would strive to apply those qualities to my own life and work.\")]"
      ]
     },
     "execution_count": 12,
     "metadata": {},
     "output_type": "execute_result"
    }
   ],
   "source": [
    "list(a)"
   ]
  },
  {
   "cell_type": "code",
   "execution_count": 19,
   "id": "e3fe4724",
   "metadata": {},
   "outputs": [],
   "source": [
    "together = \"\"\n",
    "for index, answer in enumerate(answers):\n",
    "    together += f\"Response from Competitor {index+1}:\\n\\n\"\n",
    "    together += answer + \"\\n\\n\""
   ]
  },
  {
   "cell_type": "code",
   "execution_count": 20,
   "id": "c327175b",
   "metadata": {},
   "outputs": [
    {
     "name": "stdout",
     "output_type": "stream",
     "text": [
      "Response from Competitor 1:\n",
      "\n",
      "This is a fascinating and profoundly challenging thought experiment. Given the ability to perfectly quantify and transfer subjective experience, my choice would be to experience the existence of **Viktor Frankl, specifically during a pivotal 24-hour period within a Nazi concentration camp.**\n",
      "\n",
      "Here's why:\n",
      "\n",
      "1.  **Hardship Beyond Comprehension:** To truly grasp the unfathomable depths of human suffering, degradation, and the systematic attempt to strip away individuality and meaning. It's not just about witnessing it from the outside; it's about *feeling* the hunger, the cold, the fear, the constant threat of death, the loss of loved ones, the despair. This experience would be a crucible of the human spirit.\n",
      "\n",
      "2.  **Moral Complexity in the Extreme:** Frankl's experience was saturated with moral dilemmas – not just his own, but witnessing the choices made by fellow prisoners, the kapos, and the guards. Who shared a crust of bread? Who stole? Who maintained their humanity in the face of unspeakable dehumanization? Who gave up hope, and who found a reason to live? To understand the internal struggle to maintain one's values, to find a sliver of meaning amidst total meaninglessness, would be an unparalleled lesson in ethical fortitude and the grey areas of survival. I want to feel the internal battle to choose one's attitude, even when external freedom is completely absent.\n",
      "\n",
      "3.  **Historical Impact at its Genesis:** Frankl's time in the camps was the genesis of Logotherapy, his groundbreaking psychological theory emphasizing the human search for meaning. To experience the subjective thought processes, the moments of insight, the intellectual and emotional revelations that led him to develop his ideas about \"tragic optimism\" and the \"last of the human freedoms\" (to choose one's attitude) *while still within the hellish confines of the camp* would be witnessing the birth of a world-changing philosophy. It wouldn't just be remembering his theories; it would be *feeling the direct lived experience that forged them*.\n",
      "\n",
      "4.  **Beyond Fame, Fortune, or Conventional Happiness:** This choice deliberately sidesteps the superficial allure of power or pleasure. While experiencing moments of pure joy or peak performance might be interesting, 24 hours in Frankl's shoes during that period would offer a visceral understanding of human resilience, the capacity for meaning-making, and the ultimate importance of inner freedom that no amount of fame or fortune could ever convey. It would be a stark reminder of what truly matters when everything else is stripped away.\n",
      "\n",
      "**What I hope to gain from those 24 hours (and retain):**\n",
      "\n",
      "*   **A Profound and Visceral Understanding of Resilience:** To truly comprehend how the human spirit can endure, and even find purpose, in the most horrific circumstances.\n",
      "*   **A Shift in Perspective on My Own Challenges:** My \"problems\" would forever be reframed against that backdrop, fostering deeper gratitude and a stronger sense of perspective.\n",
      "*   **Empathy and Human Connection:** A heightened, almost unbearable, empathy for those who have suffered and continue to suffer, and a deeper appreciation for the fragility and tenacity of human life.\n",
      "*   **The Inviolability of Inner Freedom:** A direct, unforgettable experience of the truth that even when everything is taken, one's attitude, one's choice to find meaning, remains. This would be an empowering and grounding truth for the rest of my life.\n",
      "*   **A Deeper Sense of Purpose:** The memory would serve as a constant reminder of the importance of living a life of meaning, not just pleasure or achievement.\n",
      "\n",
      "Returning to my own body and life, I would carry an indelible mark – a memory that is not just information, but *felt experience*. It would fundamentally alter my perception of suffering, my understanding of human nature, and my approach to living my own life with greater purpose and resilience. It would be a heavy memory, but one that would hopefully inspire greater compassion and a profound sense of responsibility.\n",
      "\n",
      "Response from Competitor 2:\n",
      "\n",
      "If I could experience any other person's existence for 24 hours, I would choose to walk in the shoes of Malala Yousafzai, the Pakistani activist for girls' education and the youngest Nobel Prize laureate. Here's why:\n",
      "\n",
      "1. **Unwavering courage and resilience**: Malala's life is a testament to her extraordinary bravery and determination. She has faced numerous death threats, survived a Taliban assassination attempt, and continued to advocate for girls' education despite the risks. I want to understand what drives her courage and how she maintains her resolve in the face of adversity.\n",
      "2. **Unique perspective on education and equality**: As a champion of girls' education, Malala has a deep understanding of the importance of education in empowering individuals and communities. I would like to experience her thoughts and feelings on the value of education, the challenges she has faced in promoting it, and the impact it has had on her life and the lives of others.\n",
      "3. **Cultural and historical context**: Malala's life is deeply rooted in Pakistani culture and the complexities of the region. I would like to experience the daily life of a Pashtun woman in the Swat Valley, with all its traditions, customs, and challenges. This would give me a unique insight into the historical and cultural context of the region and the ways in which it shapes individual experiences.\n",
      "4. **Moral complexity and nuance**: Malala's story is not just one of triumph, but also of struggle and controversy. She has faced criticism and backlash from some quarters, and I would like to understand the moral complexities and trade-offs she has had to navigate in her advocacy work. How does she balance her commitment to education with the need to protect herself and her family?\n",
      "5. **Empathy and compassion**: By experiencing Malala's life, I hope to gain a deeper understanding of the struggles faced by girls and women in patriarchal societies. I want to feel the weight of her responsibilities, the fear and the hope, and the resilience that drives her to continue fighting for a better future.\n",
      "6. **Inspiration and personal growth**: Malala's story is a powerful reminder of the impact one person can have on the world. By experiencing her life, I hope to be inspired by her example and to gain a new perspective on my own life and priorities. I want to understand what drives her to make sacrifices for the greater good and how I can apply those lessons to my own life.\n",
      "\n",
      "For 24 hours, I would like to wake up in Malala's body, to see the world through her eyes, and to experience the beauty and the brutality of her reality. I would like to feel the sun on my face as I walk to school, to taste the food she eats, and to hear the sounds of her community. I would like to attend meetings with world leaders, to speak at rallies, and to advocate for girls' education. I would like to understand the intricacies of her relationships with her family, friends, and allies.\n",
      "\n",
      "After 24 hours, I would return to my own body and life, but I would carry with me the memories and lessons of Malala's existence. I would be reminded of the power of courage, resilience, and compassion, and I would strive to apply those qualities to my own life and work.\n",
      "\n",
      "\n"
     ]
    }
   ],
   "source": [
    "print(together)"
   ]
  },
  {
   "cell_type": "code",
   "execution_count": 21,
   "id": "d6f17591",
   "metadata": {},
   "outputs": [],
   "source": [
    "# LLM Evaluator\n",
    "\n",
    "judge = f\"\"\"You are judging a competition between {len(competitors)} competitors.\n",
    "Each model has been given this question:\n",
    "\n",
    "{question}\n",
    "\n",
    "Your job is to evaluate each response for clarity and strength of argument, and rank them in order of best to worst.\n",
    "Respond with JSON, and only JSON, with the following format:\n",
    "{{\"results\": [\"best competitor number\", \"second best competitor number\", \"third best competitor number\", ...]}}\n",
    "\n",
    "Here are the responses from each competitor:\n",
    "\n",
    "{together}\n",
    "\n",
    "Now respond with the JSON with the ranked order of the competitors, nothing else. Do not include markdown formatting or code blocks.\"\"\"\n"
   ]
  },
  {
   "cell_type": "code",
   "execution_count": 22,
   "id": "c4264136",
   "metadata": {},
   "outputs": [
    {
     "name": "stdout",
     "output_type": "stream",
     "text": [
      "You are judging a competition between 2 competitors.\n",
      "Each model has been given this question:\n",
      "\n",
      "Imagine a world where subjective experiences can be perfectly quantified and reliably transferred between individuals. If you could experience any other person's existence for 24 hours, knowing you would retain the memory but return to your own body and life afterward, whose life would you choose and why? Consider not just fame, fortune, or happiness, but also hardship, moral complexity, and historical impact.\n",
      "\n",
      "\n",
      "Your job is to evaluate each response for clarity and strength of argument, and rank them in order of best to worst.\n",
      "Respond with JSON, and only JSON, with the following format:\n",
      "{\"results\": [\"best competitor number\", \"second best competitor number\", \"third best competitor number\", ...]}\n",
      "\n",
      "Here are the responses from each competitor:\n",
      "\n",
      "Response from Competitor 1:\n",
      "\n",
      "This is a fascinating and profoundly challenging thought experiment. Given the ability to perfectly quantify and transfer subjective experience, my choice would be to experience the existence of **Viktor Frankl, specifically during a pivotal 24-hour period within a Nazi concentration camp.**\n",
      "\n",
      "Here's why:\n",
      "\n",
      "1.  **Hardship Beyond Comprehension:** To truly grasp the unfathomable depths of human suffering, degradation, and the systematic attempt to strip away individuality and meaning. It's not just about witnessing it from the outside; it's about *feeling* the hunger, the cold, the fear, the constant threat of death, the loss of loved ones, the despair. This experience would be a crucible of the human spirit.\n",
      "\n",
      "2.  **Moral Complexity in the Extreme:** Frankl's experience was saturated with moral dilemmas – not just his own, but witnessing the choices made by fellow prisoners, the kapos, and the guards. Who shared a crust of bread? Who stole? Who maintained their humanity in the face of unspeakable dehumanization? Who gave up hope, and who found a reason to live? To understand the internal struggle to maintain one's values, to find a sliver of meaning amidst total meaninglessness, would be an unparalleled lesson in ethical fortitude and the grey areas of survival. I want to feel the internal battle to choose one's attitude, even when external freedom is completely absent.\n",
      "\n",
      "3.  **Historical Impact at its Genesis:** Frankl's time in the camps was the genesis of Logotherapy, his groundbreaking psychological theory emphasizing the human search for meaning. To experience the subjective thought processes, the moments of insight, the intellectual and emotional revelations that led him to develop his ideas about \"tragic optimism\" and the \"last of the human freedoms\" (to choose one's attitude) *while still within the hellish confines of the camp* would be witnessing the birth of a world-changing philosophy. It wouldn't just be remembering his theories; it would be *feeling the direct lived experience that forged them*.\n",
      "\n",
      "4.  **Beyond Fame, Fortune, or Conventional Happiness:** This choice deliberately sidesteps the superficial allure of power or pleasure. While experiencing moments of pure joy or peak performance might be interesting, 24 hours in Frankl's shoes during that period would offer a visceral understanding of human resilience, the capacity for meaning-making, and the ultimate importance of inner freedom that no amount of fame or fortune could ever convey. It would be a stark reminder of what truly matters when everything else is stripped away.\n",
      "\n",
      "**What I hope to gain from those 24 hours (and retain):**\n",
      "\n",
      "*   **A Profound and Visceral Understanding of Resilience:** To truly comprehend how the human spirit can endure, and even find purpose, in the most horrific circumstances.\n",
      "*   **A Shift in Perspective on My Own Challenges:** My \"problems\" would forever be reframed against that backdrop, fostering deeper gratitude and a stronger sense of perspective.\n",
      "*   **Empathy and Human Connection:** A heightened, almost unbearable, empathy for those who have suffered and continue to suffer, and a deeper appreciation for the fragility and tenacity of human life.\n",
      "*   **The Inviolability of Inner Freedom:** A direct, unforgettable experience of the truth that even when everything is taken, one's attitude, one's choice to find meaning, remains. This would be an empowering and grounding truth for the rest of my life.\n",
      "*   **A Deeper Sense of Purpose:** The memory would serve as a constant reminder of the importance of living a life of meaning, not just pleasure or achievement.\n",
      "\n",
      "Returning to my own body and life, I would carry an indelible mark – a memory that is not just information, but *felt experience*. It would fundamentally alter my perception of suffering, my understanding of human nature, and my approach to living my own life with greater purpose and resilience. It would be a heavy memory, but one that would hopefully inspire greater compassion and a profound sense of responsibility.\n",
      "\n",
      "Response from Competitor 2:\n",
      "\n",
      "If I could experience any other person's existence for 24 hours, I would choose to walk in the shoes of Malala Yousafzai, the Pakistani activist for girls' education and the youngest Nobel Prize laureate. Here's why:\n",
      "\n",
      "1. **Unwavering courage and resilience**: Malala's life is a testament to her extraordinary bravery and determination. She has faced numerous death threats, survived a Taliban assassination attempt, and continued to advocate for girls' education despite the risks. I want to understand what drives her courage and how she maintains her resolve in the face of adversity.\n",
      "2. **Unique perspective on education and equality**: As a champion of girls' education, Malala has a deep understanding of the importance of education in empowering individuals and communities. I would like to experience her thoughts and feelings on the value of education, the challenges she has faced in promoting it, and the impact it has had on her life and the lives of others.\n",
      "3. **Cultural and historical context**: Malala's life is deeply rooted in Pakistani culture and the complexities of the region. I would like to experience the daily life of a Pashtun woman in the Swat Valley, with all its traditions, customs, and challenges. This would give me a unique insight into the historical and cultural context of the region and the ways in which it shapes individual experiences.\n",
      "4. **Moral complexity and nuance**: Malala's story is not just one of triumph, but also of struggle and controversy. She has faced criticism and backlash from some quarters, and I would like to understand the moral complexities and trade-offs she has had to navigate in her advocacy work. How does she balance her commitment to education with the need to protect herself and her family?\n",
      "5. **Empathy and compassion**: By experiencing Malala's life, I hope to gain a deeper understanding of the struggles faced by girls and women in patriarchal societies. I want to feel the weight of her responsibilities, the fear and the hope, and the resilience that drives her to continue fighting for a better future.\n",
      "6. **Inspiration and personal growth**: Malala's story is a powerful reminder of the impact one person can have on the world. By experiencing her life, I hope to be inspired by her example and to gain a new perspective on my own life and priorities. I want to understand what drives her to make sacrifices for the greater good and how I can apply those lessons to my own life.\n",
      "\n",
      "For 24 hours, I would like to wake up in Malala's body, to see the world through her eyes, and to experience the beauty and the brutality of her reality. I would like to feel the sun on my face as I walk to school, to taste the food she eats, and to hear the sounds of her community. I would like to attend meetings with world leaders, to speak at rallies, and to advocate for girls' education. I would like to understand the intricacies of her relationships with her family, friends, and allies.\n",
      "\n",
      "After 24 hours, I would return to my own body and life, but I would carry with me the memories and lessons of Malala's existence. I would be reminded of the power of courage, resilience, and compassion, and I would strive to apply those qualities to my own life and work.\n",
      "\n",
      "\n",
      "\n",
      "Now respond with the JSON with the ranked order of the competitors, nothing else. Do not include markdown formatting or code blocks.\n"
     ]
    }
   ],
   "source": [
    "print(judge)"
   ]
  },
  {
   "cell_type": "code",
   "execution_count": 23,
   "id": "fe44c178",
   "metadata": {},
   "outputs": [],
   "source": [
    "judge_messages = [{\"role\": \"user\", \"content\": judge}]"
   ]
  },
  {
   "cell_type": "code",
   "execution_count": 24,
   "id": "6c3f2cd6",
   "metadata": {},
   "outputs": [
    {
     "name": "stdout",
     "output_type": "stream",
     "text": [
      "{\"results\": [\"1\", \"2\"]}\n"
     ]
    }
   ],
   "source": [
    "model_name = \"gemini-2.0-flash\"\n",
    "response = gemini.chat.completions.create(model=model_name, messages=judge_messages)\n",
    "results = response.choices[0].message.content\n",
    "print(results)"
   ]
  },
  {
   "cell_type": "code",
   "execution_count": 26,
   "id": "c2450c71",
   "metadata": {},
   "outputs": [
    {
     "name": "stdout",
     "output_type": "stream",
     "text": [
      "{'results': ['1', '2']}\n"
     ]
    }
   ],
   "source": [
    "results_dict = json.loads(results)\n",
    "print(results_dict)"
   ]
  },
  {
   "cell_type": "code",
   "execution_count": 27,
   "id": "40092166",
   "metadata": {},
   "outputs": [
    {
     "name": "stdout",
     "output_type": "stream",
     "text": [
      "Rank 1: gemini-2.5-flash\n",
      "Rank 2: llama-3.3-70b-versatile\n"
     ]
    }
   ],
   "source": [
    "ranks = results_dict[\"results\"]\n",
    "for index, result in enumerate(ranks):\n",
    "    competitor = competitors[int(result)-1]\n",
    "    print(f\"Rank {index+1}: {competitor}\")"
   ]
  },
  {
   "cell_type": "code",
   "execution_count": null,
   "id": "f1243063",
   "metadata": {},
   "outputs": [],
   "source": []
  }
 ],
 "metadata": {
  "kernelspec": {
   "display_name": ".venv",
   "language": "python",
   "name": "python3"
  },
  "language_info": {
   "codemirror_mode": {
    "name": "ipython",
    "version": 3
   },
   "file_extension": ".py",
   "mimetype": "text/x-python",
   "name": "python",
   "nbconvert_exporter": "python",
   "pygments_lexer": "ipython3",
   "version": "3.12.11"
  }
 },
 "nbformat": 4,
 "nbformat_minor": 5
}
